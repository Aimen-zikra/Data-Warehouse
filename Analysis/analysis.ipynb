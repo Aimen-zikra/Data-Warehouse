{
 "cells": [
  {
   "cell_type": "code",
   "execution_count": 3,
   "id": "5a5daee8-cd12-4d6c-95eb-ad3857a319df",
   "metadata": {},
   "outputs": [
    {
     "name": "stdout",
     "output_type": "stream",
     "text": [
      "Database connection engine created successfully.\n"
     ]
    }
   ],
   "source": [
    "import mysql.connector\n",
    "import pandas as pd\n",
    "from sqlalchemy import create_engine\n",
    "\n",
    "# SQLAlchemy connection string\n",
    "user = \"root\"\n",
    "password = \"gigitod07\"\n",
    "host = \"localhost\"\n",
    "port = 3306\n",
    "database = \"DataWarehouse\"\n",
    "\n",
    "# Create engine\n",
    "mysql_connection_string = f'mysql+mysqlconnector://{user}:{password}@{host}/{database}'\n",
    "engine = create_engine(mysql_connection_string)\n",
    "print(\"Database connection engine created successfully.\")\n",
    "\n",
    "# Load tables into pandas\n",
    "fact_sales = pd.read_sql(\"SELECT * FROM gold_fact_sales;\", engine)\n",
    "dim_customers = pd.read_sql(\"SELECT * FROM gold_dim_customers;\", engine)\n",
    "dim_products = pd.read_sql(\"SELECT * FROM gold_dim_products;\", engine)"
   ]
  },
  {
   "cell_type": "code",
   "execution_count": 4,
   "id": "4db486bd-986d-4d9c-b7de-6e7a98039572",
   "metadata": {},
   "outputs": [
    {
     "name": "stdout",
     "output_type": "stream",
     "text": [
      "Total Revenue: $29,353,442.00\n",
      "Total Orders: 27659\n",
      "Average Order Value: $1,061.26\n",
      "Total Customers: 18484\n"
     ]
    }
   ],
   "source": [
    "# Total Revenue\n",
    "total_revenue = fact_sales['sales_amount'].sum()\n",
    "print(f\"Total Revenue: ${total_revenue:,.2f}\")\n",
    "\n",
    "# Total Orders\n",
    "total_orders = fact_sales['order_number'].nunique()\n",
    "print(f\"Total Orders: {total_orders}\")\n",
    "\n",
    "# Average Order Value\n",
    "aov = total_revenue / total_orders\n",
    "print(f\"Average Order Value: ${aov:,.2f}\")\n",
    "\n",
    "# Total Customers\n",
    "total_customers = fact_sales['customer_key'].nunique()\n",
    "print(f\"Total Customers: {total_customers}\")"
   ]
  },
  {
   "cell_type": "markdown",
   "id": "6e76a48a-1bfb-44a4-948b-c44d37c7dcba",
   "metadata": {},
   "source": [
    "## Core Business Metrics"
   ]
  },
  {
   "cell_type": "code",
   "execution_count": 6,
   "id": "dd1ceab0-1536-40fc-8f60-ee05aa247864",
   "metadata": {},
   "outputs": [
    {
     "name": "stdout",
     "output_type": "stream",
     "text": [
      "Total Revenue: 29353442.0\n"
     ]
    }
   ],
   "source": [
    "# 1. Total Revenue\n",
    "total_revenue = round(fact_sales['sales_amount'].sum(), 2)\n",
    "print(\"Total Revenue:\", total_revenue)"
   ]
  },
  {
   "cell_type": "code",
   "execution_count": 8,
   "id": "38636284-ba8a-42a5-96a8-243ea7bc78be",
   "metadata": {
    "scrolled": true
   },
   "outputs": [
    {
     "name": "stdout",
     "output_type": "stream",
     "text": [
      "Monthly Revenue Trends:\n",
      "       month  sales_amount\n",
      "0   2010-12       43419.0\n",
      "1   2011-01      469795.0\n",
      "2   2011-02      466307.0\n",
      "3   2011-03      485165.0\n",
      "4   2011-04      502042.0\n",
      "5   2011-05      561647.0\n",
      "6   2011-06      737793.0\n",
      "7   2011-07      596710.0\n",
      "8   2011-08      614516.0\n",
      "9   2011-09      603047.0\n",
      "10  2011-10      708164.0\n",
      "11  2011-11      660507.0\n",
      "12  2011-12      669395.0\n",
      "13  2012-01      495363.0\n",
      "14  2012-02      506992.0\n",
      "15  2012-03      373478.0\n",
      "16  2012-04      400324.0\n",
      "17  2012-05      358866.0\n",
      "18  2012-06      555142.0\n",
      "19  2012-07      444533.0\n",
      "20  2012-08      523887.0\n",
      "21  2012-09      486149.0\n",
      "22  2012-10      535125.0\n",
      "23  2012-11      537918.0\n",
      "24  2012-12      624454.0\n",
      "25  2013-01      857509.0\n",
      "26  2013-02      771202.0\n",
      "27  2013-03     1049732.0\n",
      "28  2013-04     1045860.0\n",
      "29  2013-05     1281913.0\n",
      "30  2013-06     1642948.0\n",
      "31  2013-07     1371595.0\n",
      "32  2013-08     1545910.0\n",
      "33  2013-09     1447324.0\n",
      "34  2013-10     1673261.0\n",
      "35  2013-11     1780688.0\n",
      "36  2013-12     1874128.0\n",
      "37  2014-01       45642.0\n"
     ]
    }
   ],
   "source": [
    "# 2. Monthly Revenue Trends\n",
    "fact_sales['order_date'] = pd.to_datetime(fact_sales['order_date'])\n",
    "fact_sales['month'] = fact_sales['order_date'].dt.to_period('M')\n",
    "monthly_revenue = fact_sales.groupby('month')['sales_amount'].sum().round(2).reset_index()\n",
    "monthly_revenue = monthly_revenue.sort_values('month')\n",
    "print(\"Monthly Revenue Trends:\\n\", monthly_revenue)"
   ]
  },
  {
   "cell_type": "code",
   "execution_count": 9,
   "id": "fe9008d3-bbd0-4c5b-a6c5-33d3859d04d7",
   "metadata": {
    "scrolled": true
   },
   "outputs": [
    {
     "name": "stdout",
     "output_type": "stream",
     "text": [
      "Monthly Growth Rate:\n",
      "       month  current_revenue  monthly_growth_pct\n",
      "0   2010-12          43419.0                 NaN\n",
      "1   2011-01         469795.0              982.00\n",
      "2   2011-02         466307.0               -0.74\n",
      "3   2011-03         485165.0                4.04\n",
      "4   2011-04         502042.0                3.48\n",
      "5   2011-05         561647.0               11.87\n",
      "6   2011-06         737793.0               31.36\n",
      "7   2011-07         596710.0              -19.12\n",
      "8   2011-08         614516.0                2.98\n",
      "9   2011-09         603047.0               -1.87\n",
      "10  2011-10         708164.0               17.43\n",
      "11  2011-11         660507.0               -6.73\n",
      "12  2011-12         669395.0                1.35\n",
      "13  2012-01         495363.0              -26.00\n",
      "14  2012-02         506992.0                2.35\n",
      "15  2012-03         373478.0              -26.33\n",
      "16  2012-04         400324.0                7.19\n",
      "17  2012-05         358866.0              -10.36\n",
      "18  2012-06         555142.0               54.69\n",
      "19  2012-07         444533.0              -19.92\n",
      "20  2012-08         523887.0               17.85\n",
      "21  2012-09         486149.0               -7.20\n",
      "22  2012-10         535125.0               10.07\n",
      "23  2012-11         537918.0                0.52\n",
      "24  2012-12         624454.0               16.09\n",
      "25  2013-01         857509.0               37.32\n",
      "26  2013-02         771202.0              -10.06\n",
      "27  2013-03        1049732.0               36.12\n",
      "28  2013-04        1045860.0               -0.37\n",
      "29  2013-05        1281913.0               22.57\n",
      "30  2013-06        1642948.0               28.16\n",
      "31  2013-07        1371595.0              -16.52\n",
      "32  2013-08        1545910.0               12.71\n",
      "33  2013-09        1447324.0               -6.38\n",
      "34  2013-10        1673261.0               15.61\n",
      "35  2013-11        1780688.0                6.42\n",
      "36  2013-12        1874128.0                5.25\n",
      "37  2014-01          45642.0              -97.56\n"
     ]
    }
   ],
   "source": [
    "# 3. Monthly Growth Rate (%)\n",
    "monthly_revenue['monthly_growth_pct'] = monthly_revenue['sales_amount'].pct_change() * 100\n",
    "monthly_revenue['monthly_growth_pct'] = monthly_revenue['monthly_growth_pct'].round(2)\n",
    "monthly_revenue.rename(columns={'sales_amount': 'current_revenue'}, inplace=True)\n",
    "print(\"Monthly Growth Rate:\\n\", monthly_revenue)"
   ]
  },
  {
   "cell_type": "code",
   "execution_count": 10,
   "id": "18edf49c-ed82-4d71-9622-84beeb256815",
   "metadata": {},
   "outputs": [
    {
     "name": "stdout",
     "output_type": "stream",
     "text": [
      "Top 10 Products:\n",
      "                product_name category  sales_amount  quantity\n",
      "34   Mountain-200 Black- 46    Bikes     1373454.0       620\n",
      "33   Mountain-200 Black- 42    Bikes     1363128.0       614\n",
      "35  Mountain-200 Silver- 38    Bikes     1339394.0       596\n",
      "37  Mountain-200 Silver- 46    Bikes     1301029.0       580\n",
      "32   Mountain-200 Black- 38    Bikes     1294854.0       582\n",
      "36  Mountain-200 Silver- 42    Bikes     1257368.0       560\n",
      "58         Road-150 Red- 48    Bikes     1205786.0       337\n",
      "61         Road-150 Red- 62    Bikes     1202208.0       336\n",
      "59         Road-150 Red- 52    Bikes     1080556.0       302\n",
      "60         Road-150 Red- 56    Bikes     1055510.0       295\n"
     ]
    }
   ],
   "source": [
    "# 4. Top 10 Products by Revenue\n",
    "products_sales = fact_sales.merge(dim_products, on='product_key')\n",
    "top_products = products_sales.groupby(['product_name', 'category'], as_index=False).agg({\n",
    "    'sales_amount': 'sum',\n",
    "    'quantity': 'sum'\n",
    "})\n",
    "top_products['sales_amount'] = top_products['sales_amount'].round(2)\n",
    "top_products = top_products.sort_values('sales_amount', ascending=False).head(10)\n",
    "print(\"Top 10 Products:\\n\", top_products)"
   ]
  },
  {
   "cell_type": "code",
   "execution_count": 17,
   "id": "0a790762-0eb7-42ba-8290-de4156e36889",
   "metadata": {},
   "outputs": [
    {
     "name": "stdout",
     "output_type": "stream",
     "text": [
      "Top 10 Customers:\n",
      "       customer_key      customer_name country  total_spent  total_orders\n",
      "1301          1302       Nichole Nara  France      13294.0             5\n",
      "1132          1133  Kaitlyn Henderson  France      13294.0             5\n",
      "1308          1309        Margaret He  France      13268.0             5\n",
      "1131          1132  Randall Dominguez  France      13265.0             5\n",
      "1300          1301   Adriana Gonzalez  France      13242.0             5\n",
      "1321          1322            Rosa Hu  France      13215.0             5\n",
      "1124          1125        Brandi Gill  France      13195.0             5\n",
      "1307          1308           Brad She  France      13172.0             5\n",
      "1296          1297     Francisco Sara  France      13164.0             5\n",
      "433            434       Maurice Shan  France      12904.0             6\n"
     ]
    }
   ],
   "source": [
    "# 5. Top 10 Customers by Revenue\n",
    "customers_sales = fact_sales.merge(dim_customers, on='customer_key')\n",
    "customers_sales['customer_name'] = customers_sales['first_name'] + ' ' + customers_sales['last_name']\n",
    "top_customers = customers_sales.groupby(['customer_key', 'customer_name', 'country'], as_index=False).agg({\n",
    "    'sales_amount': 'sum',\n",
    "    'order_number': pd.Series.nunique\n",
    "})\n",
    "top_customers['sales_amount'] = top_customers['sales_amount'].round(2)\n",
    "top_customers.rename(columns={'sales_amount': 'total_spent', 'order_number': 'total_orders'}, inplace=True)\n",
    "top_customers = top_customers.sort_values('total_spent', ascending=False).head(10)\n",
    "top_customers['country'] = top_customers['country'].str.strip()\n",
    "print(\"Top 10 Customers:\\n\", top_customers)"
   ]
  },
  {
   "cell_type": "code",
   "execution_count": 20,
   "id": "6186b999-6a2e-4594-9500-5cac411a0927",
   "metadata": {},
   "outputs": [
    {
     "name": "stdout",
     "output_type": "stream",
     "text": [
      "Revenue by Country:\n",
      "           country  sales_amount\n",
      "6   United States     9160558.0\n",
      "1       Australia     9060037.0\n",
      "5  United Kingdom     3390582.0\n",
      "4         Germany     2894066.0\n",
      "3          France     2643741.0\n",
      "2          Canada     1977638.0\n",
      "0                      226820.0\n"
     ]
    }
   ],
   "source": [
    "# 6. Revenue by Country\n",
    "customers_sales['country'] = customers_sales['country'].str.strip()\n",
    "revenue_by_country = customers_sales.groupby('country')['sales_amount'].sum().round(2).reset_index()\n",
    "revenue_by_country = revenue_by_country.sort_values('sales_amount', ascending=False)\n",
    "print(\"Revenue by Country:\\n\", revenue_by_country)"
   ]
  },
  {
   "cell_type": "code",
   "execution_count": 13,
   "id": "36f11a95-f28e-49f6-bb9a-8392ad1da8e7",
   "metadata": {},
   "outputs": [
    {
     "name": "stdout",
     "output_type": "stream",
     "text": [
      "Average Order Value (AOV): 1061.26\n"
     ]
    }
   ],
   "source": [
    "# 7. Average Order Value (AOV)\n",
    "aov = round(fact_sales['sales_amount'].sum() / fact_sales['order_number'].nunique(), 2)\n",
    "print(\"Average Order Value (AOV):\", aov)"
   ]
  },
  {
   "cell_type": "code",
   "execution_count": 14,
   "id": "592116df-6580-466e-adeb-45e7fd7c6d8b",
   "metadata": {},
   "outputs": [
    {
     "name": "stdout",
     "output_type": "stream",
     "text": [
      "Product Category Performance:\n",
      "       category  category_revenue  total_quantity_sold\n",
      "1        Bikes        28313802.0                15205\n",
      "0  Accessories          699924.0                36112\n",
      "2     Clothing          339716.0                 9106\n"
     ]
    }
   ],
   "source": [
    "# 8. Product Category Performance\n",
    "category_perf = products_sales.groupby('category', as_index=False).agg({\n",
    "    'sales_amount': 'sum',\n",
    "    'quantity': 'sum'\n",
    "})\n",
    "category_perf['sales_amount'] = category_perf['sales_amount'].round(2)\n",
    "category_perf.rename(columns={'sales_amount': 'category_revenue', 'quantity': 'total_quantity_sold'}, inplace=True)\n",
    "category_perf = category_perf.sort_values('category_revenue', ascending=False)\n",
    "print(\"Product Category Performance:\\n\", category_perf)"
   ]
  },
  {
   "cell_type": "code",
   "execution_count": 15,
   "id": "0e13d106-f637-4f42-8944-71dfa8c49ab7",
   "metadata": {},
   "outputs": [
    {
     "name": "stdout",
     "output_type": "stream",
     "text": [
      "Revenue by Customer Demographics:\n",
      "    gender marital_status  sales_amount\n",
      "2    Male        Married     7906723.0\n",
      "1  Female         Single     7541243.0\n",
      "0  Female        Married     7261094.0\n",
      "3    Male         Single     6614693.0\n",
      "4     n/a        Married       15572.0\n",
      "5     n/a         Single       14117.0\n"
     ]
    }
   ],
   "source": [
    "# 9. Revenue by Customer Demographics\n",
    "demographics_revenue = customers_sales.groupby(['gender', 'marital_status'], as_index=False)['sales_amount'].sum()\n",
    "demographics_revenue['sales_amount'] = demographics_revenue['sales_amount'].round(2)\n",
    "demographics_revenue = demographics_revenue.sort_values('sales_amount', ascending=False)\n",
    "print(\"Revenue by Customer Demographics:\\n\", demographics_revenue)\n"
   ]
  },
  {
   "cell_type": "code",
   "execution_count": 16,
   "id": "62ba3f91-a0da-400a-b750-2020b05b4699",
   "metadata": {},
   "outputs": [
    {
     "name": "stdout",
     "output_type": "stream",
     "text": [
      "Revenue by Product Line Over Time:\n",
      "        month product_line  sales_amount\n",
      "1    2010-12         Road       26444.0\n",
      "0    2010-12     Mountain       16975.0\n",
      "3    2011-01         Road      378320.0\n",
      "2    2011-01     Mountain       91475.0\n",
      "5    2011-02         Road      364707.0\n",
      "..       ...          ...           ...\n",
      "97   2013-12  Other Sales       61349.0\n",
      "101  2014-01  Other Sales       24594.0\n",
      "100  2014-01     Mountain       14667.0\n",
      "102  2014-01         Road        4516.0\n",
      "103  2014-01      Touring        1865.0\n",
      "\n",
      "[104 rows x 3 columns]\n"
     ]
    }
   ],
   "source": [
    "# 10. Revenue by Product Line Over Time\n",
    "revenue_by_product_line = products_sales.groupby(['month', 'product_line'], as_index=False)['sales_amount'].sum()\n",
    "revenue_by_product_line['sales_amount'] = revenue_by_product_line['sales_amount'].round(2)\n",
    "revenue_by_product_line = revenue_by_product_line.sort_values(['month', 'sales_amount'], ascending=[True, False])\n",
    "print(\"Revenue by Product Line Over Time:\\n\", revenue_by_product_line)"
   ]
  },
  {
   "cell_type": "markdown",
   "id": "b5ca755d-fd05-47b7-8c93-09356efc8d70",
   "metadata": {},
   "source": [
    "## Sales Trends Analysis"
   ]
  },
  {
   "cell_type": "markdown",
   "id": "d9600522-2857-4092-b44e-16946fff1014",
   "metadata": {},
   "source": [
    "**Monthly Revenue and Growth** "
   ]
  },
  {
   "cell_type": "code",
   "execution_count": 21,
   "id": "d3194ce8-a973-4502-a2b0-091d135a10dd",
   "metadata": {
    "scrolled": true
   },
   "outputs": [
    {
     "name": "stdout",
     "output_type": "stream",
     "text": [
      "   order_month  sales_amount  growth_pct\n",
      "0      2010-12       43419.0         NaN\n",
      "1      2011-01      469795.0  982.003270\n",
      "2      2011-02      466307.0   -0.742451\n",
      "3      2011-03      485165.0    4.044117\n",
      "4      2011-04      502042.0    3.478610\n",
      "5      2011-05      561647.0   11.872513\n",
      "6      2011-06      737793.0   31.362404\n",
      "7      2011-07      596710.0  -19.122301\n",
      "8      2011-08      614516.0    2.984029\n",
      "9      2011-09      603047.0   -1.866347\n",
      "10     2011-10      708164.0   17.430980\n",
      "11     2011-11      660507.0   -6.729656\n",
      "12     2011-12      669395.0    1.345633\n",
      "13     2012-01      495363.0  -25.998402\n",
      "14     2012-02      506992.0    2.347571\n",
      "15     2012-03      373478.0  -26.334538\n",
      "16     2012-04      400324.0    7.188107\n",
      "17     2012-05      358866.0  -10.356112\n",
      "18     2012-06      555142.0   54.693395\n",
      "19     2012-07      444533.0  -19.924452\n",
      "20     2012-08      523887.0   17.851093\n",
      "21     2012-09      486149.0   -7.203462\n",
      "22     2012-10      535125.0   10.074278\n",
      "23     2012-11      537918.0    0.521934\n",
      "24     2012-12      624454.0   16.087210\n",
      "25     2013-01      857509.0   37.321404\n",
      "26     2013-02      771202.0  -10.064851\n",
      "27     2013-03     1049732.0   36.116348\n",
      "28     2013-04     1045860.0   -0.368856\n",
      "29     2013-05     1281913.0   22.570229\n",
      "30     2013-06     1642948.0   28.163768\n",
      "31     2013-07     1371595.0  -16.516226\n",
      "32     2013-08     1545910.0   12.708926\n",
      "33     2013-09     1447324.0   -6.377215\n",
      "34     2013-10     1673261.0   15.610672\n",
      "35     2013-11     1780688.0    6.420218\n",
      "36     2013-12     1874128.0    5.247410\n",
      "37     2014-01       45642.0  -97.564627\n"
     ]
    }
   ],
   "source": [
    "# Convert order_date to datetime\n",
    "fact_sales['order_date'] = pd.to_datetime(fact_sales['order_date'])\n",
    "\n",
    "# Extract month\n",
    "fact_sales['order_month'] = fact_sales['order_date'].dt.to_period('M')\n",
    "\n",
    "# Monthly revenue\n",
    "monthly_revenue = fact_sales.groupby('order_month')['sales_amount'].sum().reset_index()\n",
    "\n",
    "# Monthly growth %\n",
    "monthly_revenue['growth_pct'] = monthly_revenue['sales_amount'].pct_change() * 100\n",
    "\n",
    "print(monthly_revenue)"
   ]
  },
  {
   "cell_type": "code",
   "execution_count": 25,
   "id": "105babe5-a916-41e8-8037-2cdfafb9c936",
   "metadata": {},
   "outputs": [
    {
     "data": {
      "image/png": "[encoded data removed]",
      "text/plain": [
       "<Figure size 1200x600 with 1 Axes>"
      ]
     },
     "metadata": {},
     "output_type": "display_data"
    }
   ],
   "source": [
    "import matplotlib.pyplot as plt\n",
    "import seaborn as sns\n",
    "# Convert Period to string for plotting\n",
    "monthly_revenue['order_month_str'] = monthly_revenue['order_month'].astype(str)\n",
    "\n",
    "# Plot\n",
    "import matplotlib.pyplot as plt\n",
    "import seaborn as sns\n",
    "\n",
    "sns.set(style=\"whitegrid\")\n",
    "plt.figure(figsize=(12,6))\n",
    "sns.lineplot(x='order_month_str', y='sales_amount', data=monthly_revenue, marker='o')\n",
    "plt.xticks(rotation=90)\n",
    "plt.title('Monthly Revenue Trend')\n",
    "plt.ylabel('Revenue ($)')\n",
    "plt.xlabel('Month')\n",
    "plt.show()"
   ]
  },
  {
   "cell_type": "markdown",
   "id": "e6e4563d-c9c4-48c4-9bda-e9f88ddd881e",
   "metadata": {},
   "source": [
    "## Product Performance KPIs"
   ]
  },
  {
   "cell_type": "markdown",
   "id": "dff23b9e-b2ee-48fa-88c5-293e8def0f9a",
   "metadata": {},
   "source": [
    "**Merge Sales with Products**"
   ]
  },
  {
   "cell_type": "code",
   "execution_count": 26,
   "id": "e26eb0cc-2836-4819-ab90-51dee0a137a4",
   "metadata": {},
   "outputs": [],
   "source": [
    "sales_products = fact_sales.merge(dim_products, on='product_key', how='left')"
   ]
  },
  {
   "cell_type": "markdown",
   "id": "fe2277a4-5302-4b86-9cd1-2998a4040838",
   "metadata": {},
   "source": [
    "**Revenue per Product**"
   ]
  },
  {
   "cell_type": "code",
   "execution_count": 28,
   "id": "d5070498-ca5e-43ba-8271-1e575bf89ca1",
   "metadata": {},
   "outputs": [
    {
     "name": "stdout",
     "output_type": "stream",
     "text": [
      "               product_name  sales_amount\n",
      "34   Mountain-200 Black- 46     1373454.0\n",
      "33   Mountain-200 Black- 42     1363128.0\n",
      "35  Mountain-200 Silver- 38     1339394.0\n",
      "37  Mountain-200 Silver- 46     1301029.0\n",
      "32   Mountain-200 Black- 38     1294854.0\n",
      "36  Mountain-200 Silver- 42     1257368.0\n",
      "58         Road-150 Red- 48     1205786.0\n",
      "61         Road-150 Red- 62     1202208.0\n",
      "59         Road-150 Red- 52     1080556.0\n",
      "60         Road-150 Red- 56     1055510.0\n"
     ]
    }
   ],
   "source": [
    "product_revenue = sales_products.groupby('product_name')['sales_amount'].sum().reset_index()\n",
    "product_revenue = product_revenue.sort_values(by='sales_amount', ascending=False)\n",
    "print(product_revenue.head(10))  # Top 10 products by revenue\n"
   ]
  },
  {
   "cell_type": "markdown",
   "id": "76e76224-4607-4433-9c97-28c68ca06b63",
   "metadata": {},
   "source": [
    "**Profit and Margin**"
   ]
  },
  {
   "cell_type": "code",
   "execution_count": 29,
   "id": "f8981b7d-ff8c-423b-b21c-1a6b3cb88c26",
   "metadata": {},
   "outputs": [
    {
     "name": "stdout",
     "output_type": "stream",
     "text": [
      "               product_name  total_profit  avg_margin\n",
      "34   Mountain-200 Black- 46      597214.0   43.323285\n",
      "33   Mountain-200 Black- 42      594400.0   43.451875\n",
      "35  Mountain-200 Silver- 38      584858.0   43.515597\n",
      "37  Mountain-200 Silver- 46      566749.0   43.406198\n",
      "32   Mountain-200 Black- 38      566190.0   43.578524\n",
      "36  Mountain-200 Silver- 42      548408.0   43.462757\n",
      "58         Road-150 Red- 48      474159.0   39.323644\n",
      "61         Road-150 Red- 62      472752.0   39.323644\n",
      "59         Road-150 Red- 52      424914.0   39.323644\n",
      "60         Road-150 Red- 56      415065.0   39.323644\n"
     ]
    }
   ],
   "source": [
    "sales_products['profit'] = sales_products['sales_amount'] - (sales_products['quantity'] * sales_products['cost'])\n",
    "sales_products['profit_margin_pct'] = (sales_products['profit'] / sales_products['sales_amount']) * 100\n",
    "\n",
    "product_profit = sales_products.groupby('product_name').agg(\n",
    "    total_profit=('profit', 'sum'),\n",
    "    avg_margin=('profit_margin_pct', 'mean')\n",
    ").reset_index().sort_values(by='total_profit', ascending=False)\n",
    "\n",
    "print(product_profit.head(10))\n"
   ]
  },
  {
   "cell_type": "markdown",
   "id": "3fd9b3cd-a4cf-4572-a96d-6f7fce1a1cf1",
   "metadata": {},
   "source": [
    "**Repeat Purchase Rate**"
   ]
  },
  {
   "cell_type": "code",
   "execution_count": 30,
   "id": "13a2781e-ecf7-41c0-abc9-04d59dc0554f",
   "metadata": {},
   "outputs": [
    {
     "name": "stdout",
     "output_type": "stream",
     "text": [
      "              product_name  unique_customers  total_orders  repeat_rate\n",
      "52     Patch Kit/8 Patches              2950          3191     1.081695\n",
      "56          Road Tire Tube              2226          2376     1.067385\n",
      "103      Touring Tire Tube              1411          1488     1.054571\n",
      "8             HL Road Tire               820           858     1.046341\n",
      "23      Mountain Tire Tube              2960          3095     1.045608\n",
      "126  Water Bottle - 30 oz.              4073          4244     1.041984\n",
      "21            ML Road Tire               891           926     1.039282\n",
      "101  Sport-100 Helmet- Red              2147          2230     1.038659\n",
      "14        LL Mountain Tire               830           862     1.038554\n",
      "2    Bike Wash - Dissolver               875           908     1.037714\n"
     ]
    }
   ],
   "source": [
    "repeat_purchase = sales_products.groupby('product_name').agg(\n",
    "    unique_customers=('customer_key', 'nunique'),\n",
    "    total_orders=('order_number', 'nunique')\n",
    ").reset_index()\n",
    "\n",
    "repeat_purchase['repeat_rate'] = repeat_purchase['total_orders'] / repeat_purchase['unique_customers']\n",
    "repeat_purchase = repeat_purchase.sort_values(by='repeat_rate', ascending=False)\n",
    "\n",
    "print(repeat_purchase.head(10))\n"
   ]
  }
 ],
 "metadata": {
  "kernelspec": {
   "display_name": "Python [conda env:base] *",
   "language": "python",
   "name": "conda-base-py"
  },
  "language_info": {
   "codemirror_mode": {
    "name": "ipython",
    "version": 3
   },
   "file_extension": ".py",
   "mimetype": "text/x-python",
   "name": "python",
   "nbconvert_exporter": "python",
   "pygments_lexer": "ipython3",
   "version": "3.13.5"
  }
 },
 "nbformat": 4,
 "nbformat_minor": 5
}
